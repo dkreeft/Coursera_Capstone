{
 "cells": [
  {
   "cell_type": "markdown",
   "metadata": {},
   "source": [
    "# Capstone Project - The Battle of Neighborhoods (Week 1)\n",
    "## Finding the best neighborhood for my new restaurant\n",
    "*This notebook contains my submission for Capstone Project week 1 of the Coursera course 'Applied Data Science Capstone'.*\n",
    "\n",
    "### Introduction\n",
    "As a restaurant owner I would like to open a second restaurant in Toronto, Canada. As I would like to maximize my profits, I am looking for a neighborhood that would meet the following requirements:\n",
    "\n",
    "* have a relatively high population;\n",
    "* have a low number of restaurants;\n",
    "* have a low crime rate.\n",
    "\n",
    "\n",
    "### Used data\n",
    "Using data from the Toronto Police (http://data.torontopolice.on.ca/datasets/neighbourhood-crime-rates-boundary-file-), and Foursquare I can find neighborhoods that would meet my requirements. In order to correctly compare neighborhoods, I would like to compare the crime rate and the number of restaurants per capita (per person). In this way, neighborhood that have a low/high absolute number of restaurants are corrected for in terms of population. The crime rate is also determined by dividing the following crimes by the population of the neighborhood, thereby implicitly assuming that crimes are carried out by people living in that neighborhood: assault, auto theft, break and enter, homicide, robbery, and theft.\n"
   ]
  },
  {
   "cell_type": "code",
   "execution_count": null,
   "metadata": {},
   "outputs": [],
   "source": []
  }
 ],
 "metadata": {
  "kernelspec": {
   "display_name": "Python 3",
   "language": "python",
   "name": "python3"
  },
  "language_info": {
   "codemirror_mode": {
    "name": "ipython",
    "version": 3
   },
   "file_extension": ".py",
   "mimetype": "text/x-python",
   "name": "python",
   "nbconvert_exporter": "python",
   "pygments_lexer": "ipython3",
   "version": "3.7.3"
  }
 },
 "nbformat": 4,
 "nbformat_minor": 2
}
